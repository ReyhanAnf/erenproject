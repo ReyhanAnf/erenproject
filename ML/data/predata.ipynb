{
 "cells": [
  {
   "cell_type": "code",
   "execution_count": 85,
   "id": "19ca3aff",
   "metadata": {},
   "outputs": [
    {
     "data": {
      "text/html": [
       "<div>\n",
       "<style scoped>\n",
       "    .dataframe tbody tr th:only-of-type {\n",
       "        vertical-align: middle;\n",
       "    }\n",
       "\n",
       "    .dataframe tbody tr th {\n",
       "        vertical-align: top;\n",
       "    }\n",
       "\n",
       "    .dataframe thead th {\n",
       "        text-align: right;\n",
       "    }\n",
       "</style>\n",
       "<table border=\"1\" class=\"dataframe\">\n",
       "  <thead>\n",
       "    <tr style=\"text-align: right;\">\n",
       "      <th></th>\n",
       "      <th>link</th>\n",
       "    </tr>\n",
       "  </thead>\n",
       "  <tbody>\n",
       "    <tr>\n",
       "      <th>0</th>\n",
       "      <td>https://turnbackhoax.id/2022/03/05/salah-yaqut...</td>\n",
       "    </tr>\n",
       "    <tr>\n",
       "      <th>1</th>\n",
       "      <td>https://turnbackhoax.id/2022/03/05/salah-dele-...</td>\n",
       "    </tr>\n",
       "    <tr>\n",
       "      <th>2</th>\n",
       "      <td>https://turnbackhoax.id/2022/03/05/salah-bantu...</td>\n",
       "    </tr>\n",
       "    <tr>\n",
       "      <th>3</th>\n",
       "      <td>https://turnbackhoax.id/2022/03/05/salah-video...</td>\n",
       "    </tr>\n",
       "    <tr>\n",
       "      <th>4</th>\n",
       "      <td>https://turnbackhoax.id/2022/03/05/salah-surat...</td>\n",
       "    </tr>\n",
       "    <tr>\n",
       "      <th>...</th>\n",
       "      <td>...</td>\n",
       "    </tr>\n",
       "    <tr>\n",
       "      <th>74</th>\n",
       "      <td>https://turnbackhoax.id/2022/02/24/salah-mengg...</td>\n",
       "    </tr>\n",
       "    <tr>\n",
       "      <th>75</th>\n",
       "      <td>https://turnbackhoax.id/2022/02/24/salah-janga...</td>\n",
       "    </tr>\n",
       "    <tr>\n",
       "      <th>76</th>\n",
       "      <td>https://turnbackhoax.id/2022/02/23/false-franc...</td>\n",
       "    </tr>\n",
       "    <tr>\n",
       "      <th>77</th>\n",
       "      <td>https://turnbackhoax.id/2022/02/23/salah-tikto...</td>\n",
       "    </tr>\n",
       "    <tr>\n",
       "      <th>78</th>\n",
       "      <td>https://turnbackhoax.id/page/4/</td>\n",
       "    </tr>\n",
       "  </tbody>\n",
       "</table>\n",
       "<p>79 rows × 1 columns</p>\n",
       "</div>"
      ],
      "text/plain": [
       "                                                 link\n",
       "0   https://turnbackhoax.id/2022/03/05/salah-yaqut...\n",
       "1   https://turnbackhoax.id/2022/03/05/salah-dele-...\n",
       "2   https://turnbackhoax.id/2022/03/05/salah-bantu...\n",
       "3   https://turnbackhoax.id/2022/03/05/salah-video...\n",
       "4   https://turnbackhoax.id/2022/03/05/salah-surat...\n",
       "..                                                ...\n",
       "74  https://turnbackhoax.id/2022/02/24/salah-mengg...\n",
       "75  https://turnbackhoax.id/2022/02/24/salah-janga...\n",
       "76  https://turnbackhoax.id/2022/02/23/false-franc...\n",
       "77  https://turnbackhoax.id/2022/02/23/salah-tikto...\n",
       "78                    https://turnbackhoax.id/page/4/\n",
       "\n",
       "[79 rows x 1 columns]"
      ]
     },
     "execution_count": 85,
     "metadata": {},
     "output_type": "execute_result"
    }
   ],
   "source": [
    "import pandas as pd\n",
    "\n",
    "df = pd.read_csv(\"link_hoax.csv\")\n",
    "\n",
    "df.head(79)"
   ]
  },
  {
   "cell_type": "code",
   "execution_count": 86,
   "id": "bcac4cf0",
   "metadata": {},
   "outputs": [],
   "source": [
    "ii = 59\n",
    "\n",
    "for i in range(5):\n",
    "    df.drop(index=ii, inplace=True)\n",
    "    ii += 19\n",
    "    \n"
   ]
  },
  {
   "cell_type": "code",
   "execution_count": 87,
   "id": "f297a3d4",
   "metadata": {},
   "outputs": [],
   "source": [
    "df = df.reset_index().drop(columns=['index'])"
   ]
  },
  {
   "cell_type": "code",
   "execution_count": 93,
   "id": "e0b64c52",
   "metadata": {},
   "outputs": [],
   "source": [
    "df.drop(index=149, inplace=True)\n"
   ]
  },
  {
   "cell_type": "code",
   "execution_count": 97,
   "id": "a29078a4",
   "metadata": {},
   "outputs": [
    {
     "data": {
      "text/html": [
       "<div>\n",
       "<style scoped>\n",
       "    .dataframe tbody tr th:only-of-type {\n",
       "        vertical-align: middle;\n",
       "    }\n",
       "\n",
       "    .dataframe tbody tr th {\n",
       "        vertical-align: top;\n",
       "    }\n",
       "\n",
       "    .dataframe thead th {\n",
       "        text-align: right;\n",
       "    }\n",
       "</style>\n",
       "<table border=\"1\" class=\"dataframe\">\n",
       "  <thead>\n",
       "    <tr style=\"text-align: right;\">\n",
       "      <th></th>\n",
       "      <th>link</th>\n",
       "    </tr>\n",
       "  </thead>\n",
       "  <tbody>\n",
       "    <tr>\n",
       "      <th>576</th>\n",
       "      <td>https://turnbackhoax.id/2021/11/17/72388/</td>\n",
       "    </tr>\n",
       "  </tbody>\n",
       "</table>\n",
       "</div>"
      ],
      "text/plain": [
       "                                          link\n",
       "576  https://turnbackhoax.id/2021/11/17/72388/"
      ]
     },
     "execution_count": 97,
     "metadata": {},
     "output_type": "execute_result"
    }
   ],
   "source": [
    "df.loc[df.link == 'https://turnbackhoax.id/2021/11/17/72388/']"
   ]
  },
  {
   "cell_type": "code",
   "execution_count": 92,
   "id": "f97c794f",
   "metadata": {},
   "outputs": [],
   "source": [
    "df.to_csv('link_hoax.csv', index=False)"
   ]
  }
 ],
 "metadata": {
  "kernelspec": {
   "display_name": "Python 3 (ipykernel)",
   "language": "python",
   "name": "python3"
  },
  "language_info": {
   "codemirror_mode": {
    "name": "ipython",
    "version": 3
   },
   "file_extension": ".py",
   "mimetype": "text/x-python",
   "name": "python",
   "nbconvert_exporter": "python",
   "pygments_lexer": "ipython3",
   "version": "3.9.7"
  }
 },
 "nbformat": 4,
 "nbformat_minor": 5
}
