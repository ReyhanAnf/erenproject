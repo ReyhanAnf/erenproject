{
 "cells": [
  {
   "cell_type": "code",
   "execution_count": 22,
   "id": "19ca3aff",
   "metadata": {},
   "outputs": [
    {
     "data": {
      "text/html": [
       "<div>\n",
       "<style scoped>\n",
       "    .dataframe tbody tr th:only-of-type {\n",
       "        vertical-align: middle;\n",
       "    }\n",
       "\n",
       "    .dataframe tbody tr th {\n",
       "        vertical-align: top;\n",
       "    }\n",
       "\n",
       "    .dataframe thead th {\n",
       "        text-align: right;\n",
       "    }\n",
       "</style>\n",
       "<table border=\"1\" class=\"dataframe\">\n",
       "  <thead>\n",
       "    <tr style=\"text-align: right;\">\n",
       "      <th></th>\n",
       "      <th>link</th>\n",
       "    </tr>\n",
       "  </thead>\n",
       "  <tbody>\n",
       "    <tr>\n",
       "      <th>0</th>\n",
       "      <td>https://turnbackhoax.id/2022/03/05/salah-yaqut...</td>\n",
       "    </tr>\n",
       "    <tr>\n",
       "      <th>1</th>\n",
       "      <td>https://turnbackhoax.id/2022/03/05/salah-dele-...</td>\n",
       "    </tr>\n",
       "    <tr>\n",
       "      <th>2</th>\n",
       "      <td>https://turnbackhoax.id/2022/03/05/salah-bantu...</td>\n",
       "    </tr>\n",
       "    <tr>\n",
       "      <th>3</th>\n",
       "      <td>https://turnbackhoax.id/2022/03/05/salah-video...</td>\n",
       "    </tr>\n",
       "    <tr>\n",
       "      <th>4</th>\n",
       "      <td>https://turnbackhoax.id/2022/03/05/salah-surat...</td>\n",
       "    </tr>\n",
       "    <tr>\n",
       "      <th>...</th>\n",
       "      <td>...</td>\n",
       "    </tr>\n",
       "    <tr>\n",
       "      <th>183</th>\n",
       "      <td>https://turnbackhoax.id/2022/02/09/salah-judul...</td>\n",
       "    </tr>\n",
       "    <tr>\n",
       "      <th>184</th>\n",
       "      <td>https://turnbackhoax.id/2022/02/09/salah-video...</td>\n",
       "    </tr>\n",
       "    <tr>\n",
       "      <th>185</th>\n",
       "      <td>https://turnbackhoax.id/2022/02/08/salah-dagin...</td>\n",
       "    </tr>\n",
       "    <tr>\n",
       "      <th>186</th>\n",
       "      <td>https://turnbackhoax.id/2022/02/08/salah-video...</td>\n",
       "    </tr>\n",
       "    <tr>\n",
       "      <th>187</th>\n",
       "      <td>https://turnbackhoax.id/page/9/</td>\n",
       "    </tr>\n",
       "  </tbody>\n",
       "</table>\n",
       "<p>188 rows × 1 columns</p>\n",
       "</div>"
      ],
      "text/plain": [
       "                                                  link\n",
       "0    https://turnbackhoax.id/2022/03/05/salah-yaqut...\n",
       "1    https://turnbackhoax.id/2022/03/05/salah-dele-...\n",
       "2    https://turnbackhoax.id/2022/03/05/salah-bantu...\n",
       "3    https://turnbackhoax.id/2022/03/05/salah-video...\n",
       "4    https://turnbackhoax.id/2022/03/05/salah-surat...\n",
       "..                                                 ...\n",
       "183  https://turnbackhoax.id/2022/02/09/salah-judul...\n",
       "184  https://turnbackhoax.id/2022/02/09/salah-video...\n",
       "185  https://turnbackhoax.id/2022/02/08/salah-dagin...\n",
       "186  https://turnbackhoax.id/2022/02/08/salah-video...\n",
       "187                    https://turnbackhoax.id/page/9/\n",
       "\n",
       "[188 rows x 1 columns]"
      ]
     },
     "execution_count": 22,
     "metadata": {},
     "output_type": "execute_result"
    }
   ],
   "source": [
    "import pandas as pd\n",
    "\n",
    "df = pd.read_csv(\"link_hoax.csv\")\n",
    "\n",
    "df.head(188)"
   ]
  },
  {
   "cell_type": "code",
   "execution_count": 25,
   "id": "bcac4cf0",
   "metadata": {},
   "outputs": [
    {
     "data": {
      "text/plain": [
       "link    https://turnbackhoax.id/page/9/\n",
       "Name: 187, dtype: object"
      ]
     },
     "execution_count": 25,
     "metadata": {},
     "output_type": "execute_result"
    }
   ],
   "source": [
    "ii = 187\n",
    "\n",
    "for i in range(421):\n",
    "    df.drop(index==ii, inplace=True)\n",
    "    ii += 21\n",
    "    \n"
   ]
  }
 ],
 "metadata": {
  "kernelspec": {
   "display_name": "Python 3 (ipykernel)",
   "language": "python",
   "name": "python3"
  },
  "language_info": {
   "codemirror_mode": {
    "name": "ipython",
    "version": 3
   },
   "file_extension": ".py",
   "mimetype": "text/x-python",
   "name": "python",
   "nbconvert_exporter": "python",
   "pygments_lexer": "ipython3",
   "version": "3.9.7"
  }
 },
 "nbformat": 4,
 "nbformat_minor": 5
}
