{
 "cells": [
  {
   "cell_type": "code",
   "execution_count": 4,
   "metadata": {},
   "outputs": [
    {
     "name": "stdout",
     "output_type": "stream",
     "text": [
      "succes 0\n",
      "succes 1\n",
      "succes 2\n",
      "succes 3\n",
      "succes 4\n",
      "succes 5\n",
      "succes 6\n",
      "succes 7\n",
      "succes 8\n",
      "succes 9\n",
      "succes 10\n",
      "succes 11\n",
      "succes 12\n",
      "succes 13\n"
     ]
    }
   ],
   "source": [
    "from gettext import find\n",
    "import pandas as pd\n",
    "from bs4 import BeautifulSoup\n",
    "import requests\n",
    "\n",
    "df_link = pd.read_csv('data/link_hoax.csv')\n",
    "\n",
    "arrTgl = []\n",
    "arrJdl = []\n",
    "arrKtn = []\n",
    "\n",
    "page = 2\n",
    "\n",
    "for i in range(20):\n",
    "    print('succes' ,i)\n",
    "    link = df_link.link[i]\n",
    "    get = requests.get(link)\n",
    "    bs = BeautifulSoup(get.text, 'html.parser')\n",
    "    semi = bs.find('div', id='main-content')\n",
    "    judul = semi.find('h1').get_text()\n",
    "    tanggal = semi.find('span',class_='entry-meta-date').find('a').get_text()\n",
    "\n",
    "    skonten = semi.find_all('p')\n",
    "    konten = [x.get_text() for x in skonten]\n",
    "    del konten[0:8]\n",
    "    del konten[-8:]\n",
    "        \n",
    "    kontenTeks = ''\n",
    "    for k in range(len(konten)):\n",
    "        kontenTeks += konten[k]\n",
    "        \n",
    "    arrKtn.append(kontenTeks)\n",
    "    arrTgl.append(tanggal)\n",
    "    arrJdl.append(judul[8:])\n",
    "\n",
    "        \n",
    "\n",
    "df_data = pd.DataFrame({'tanggal':arrTgl,\n",
    "                        'judul':arrJdl,\n",
    "                        'konten':arrKtn})\n",
    "\n",
    "df_data.to_csv('data/data_news_hoax.csv', index=False)\n",
    "\n",
    "\n",
    "\n",
    "\n",
    "\n"
   ]
  }
 ],
 "metadata": {
  "interpreter": {
   "hash": "650517d1615eb63674b77ed193820b861361923922cb2b51a51544593eacd819"
  },
  "kernelspec": {
   "display_name": "Python 3.9.7 ('base')",
   "language": "python",
   "name": "python3"
  },
  "language_info": {
   "codemirror_mode": {
    "name": "ipython",
    "version": 3
   },
   "file_extension": ".py",
   "mimetype": "text/x-python",
   "name": "python",
   "nbconvert_exporter": "python",
   "pygments_lexer": "ipython3",
   "version": "3.9.7"
  },
  "orig_nbformat": 4
 },
 "nbformat": 4,
 "nbformat_minor": 2
}
